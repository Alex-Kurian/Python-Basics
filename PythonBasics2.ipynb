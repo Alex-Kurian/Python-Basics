{
  "nbformat": 4,
  "nbformat_minor": 0,
  "metadata": {
    "colab": {
      "provenance": [],
      "authorship_tag": "ABX9TyPtYf2bzE90rDICqhn+QWFF",
      "include_colab_link": true
    },
    "kernelspec": {
      "name": "python3",
      "display_name": "Python 3"
    },
    "language_info": {
      "name": "python"
    }
  },
  "cells": [
    {
      "cell_type": "markdown",
      "metadata": {
        "id": "view-in-github",
        "colab_type": "text"
      },
      "source": [
        "<a href=\"https://colab.research.google.com/github/Alex-Kurian/Python-Basics/blob/main/PythonBasics2.ipynb\" target=\"_parent\"><img src=\"https://colab.research.google.com/assets/colab-badge.svg\" alt=\"Open In Colab\"/></a>"
      ]
    },
    {
      "cell_type": "code",
      "execution_count": 1,
      "metadata": {
        "colab": {
          "base_uri": "https://localhost:8080/"
        },
        "id": "uKd4ef7fh7FA",
        "outputId": "364147bc-3f18-45f2-9100-16f5cc3c96d9"
      },
      "outputs": [
        {
          "output_type": "stream",
          "name": "stdout",
          "text": [
            "65\n",
            "You are passed\n"
          ]
        }
      ],
      "source": [
        "Mark=int(input())\n",
        "if Mark>50:\n",
        "  print(\"You are passed\")\n",
        "elif Mark==50:\n",
        "  print(\"Just passed\")\n",
        "else:\n",
        "  print(\"You are failed\")"
      ]
    },
    {
      "cell_type": "code",
      "source": [
        "print(\"Tax\")\n",
        "Salary=int(input())\n",
        "if Salary>=250000:\n",
        "  print(\"You are taxable\")\n",
        "else:\n",
        "  print(\"You are not taxable\")"
      ],
      "metadata": {
        "colab": {
          "base_uri": "https://localhost:8080/"
        },
        "id": "DwAdmYZtia2H",
        "outputId": "cc8043b4-ed39-4064-f76a-ce89bfd8d176"
      },
      "execution_count": 2,
      "outputs": [
        {
          "output_type": "stream",
          "name": "stdout",
          "text": [
            "Tax\n",
            "5000000\n",
            "You are taxable\n"
          ]
        }
      ]
    },
    {
      "cell_type": "code",
      "source": [
        "print(\"Tax Calculation\")\n",
        "Salary=int(input())\n",
        "if Salary>=250000:\n",
        "  print(\"You are taxable\")\n",
        "  Tax=Salary*10/100\n",
        "  print(Tax)\n",
        "else:\n",
        "  print(\"You are not taxable\")"
      ],
      "metadata": {
        "colab": {
          "base_uri": "https://localhost:8080/"
        },
        "id": "0ETzuX7EmIPb",
        "outputId": "412373ff-a241-4d1f-bb9d-ed18fafd424a"
      },
      "execution_count": 3,
      "outputs": [
        {
          "output_type": "stream",
          "name": "stdout",
          "text": [
            "Tax Calculation\n",
            "750000\n",
            "You are taxable\n",
            "75000.0\n"
          ]
        }
      ]
    },
    {
      "cell_type": "code",
      "source": [
        "print(\"Tax Calculation\")\n",
        "Salary=int(input())\n",
        "if Salary>=250000:\n",
        "  print(\"You are taxable\")\n",
        "  TA=Salary-250000\n",
        "  Tax=TA*10/100\n",
        "  print(Tax)\n",
        "else:\n",
        "  print(\"You are not taxable\")"
      ],
      "metadata": {
        "colab": {
          "base_uri": "https://localhost:8080/"
        },
        "id": "H9dPggM-myQ4",
        "outputId": "b8f7abc1-7a75-499e-9c04-c1ec75ed344a"
      },
      "execution_count": 4,
      "outputs": [
        {
          "output_type": "stream",
          "name": "stdout",
          "text": [
            "Tax Calculation\n",
            "1000000\n",
            "You are taxable\n",
            "75000.0\n"
          ]
        }
      ]
    },
    {
      "cell_type": "code",
      "source": [
        "print(\"Tax Calculation\")\n",
        "Salary=int(input())\n",
        "if Salary>=250000:\n",
        "  print(\"You are taxable\")\n",
        "  Tax=(Salary-250000)*10/100\n",
        "  print(Tax)\n",
        "else:\n",
        "  print(\"You are not taxable\")"
      ],
      "metadata": {
        "colab": {
          "base_uri": "https://localhost:8080/"
        },
        "id": "rYZ4-tyqoYGw",
        "outputId": "793bd349-55bf-4c5c-9925-c80b33bde7b4"
      },
      "execution_count": 5,
      "outputs": [
        {
          "output_type": "stream",
          "name": "stdout",
          "text": [
            "Tax Calculation\n",
            "1000000\n",
            "You are taxable\n",
            "75000.0\n"
          ]
        }
      ]
    },
    {
      "cell_type": "code",
      "source": [
        "print(\"Progressive Tax Calculation\")\n",
        "Salary=int(input())\n",
        "if Salary>250000 and Salary <500000:\n",
        "  print(\"You are taxable\")\n",
        "  Tax=(Salary-250000)*10/100\n",
        "  print(Tax)\n",
        "elif Salary>500000:\n",
        "  print(\"You are taxable\")\n",
        "  Tax=(Salary-250000)*20/100\n",
        "  print(Tax)\n",
        "else:\n",
        "  print(\"You are not taxable\")"
      ],
      "metadata": {
        "colab": {
          "base_uri": "https://localhost:8080/"
        },
        "id": "jviuV5RcqLui",
        "outputId": "318155d4-bd14-43a1-9bee-a00c56ffea40"
      },
      "execution_count": 6,
      "outputs": [
        {
          "output_type": "stream",
          "name": "stdout",
          "text": [
            "Progressive Tax Calculation\n",
            "750000\n",
            "You are taxable\n",
            "100000.0\n"
          ]
        }
      ]
    },
    {
      "cell_type": "code",
      "source": [],
      "metadata": {
        "id": "iKIvy4I9vWIr"
      },
      "execution_count": 6,
      "outputs": []
    }
  ]
}