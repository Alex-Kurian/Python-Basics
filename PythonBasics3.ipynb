{
  "nbformat": 4,
  "nbformat_minor": 0,
  "metadata": {
    "colab": {
      "provenance": [],
      "authorship_tag": "ABX9TyPwsgAAnTvKED3fsW/Faj9S",
      "include_colab_link": true
    },
    "kernelspec": {
      "name": "python3",
      "display_name": "Python 3"
    },
    "language_info": {
      "name": "python"
    }
  },
  "cells": [
    {
      "cell_type": "markdown",
      "metadata": {
        "id": "view-in-github",
        "colab_type": "text"
      },
      "source": [
        "<a href=\"https://colab.research.google.com/github/Alex-Kurian/Python-Basics/blob/main/PythonBasics3.ipynb\" target=\"_parent\"><img src=\"https://colab.research.google.com/assets/colab-badge.svg\" alt=\"Open In Colab\"/></a>"
      ]
    },
    {
      "cell_type": "code",
      "source": [
        "print(\"Tax Calculation\")\n",
        "salary=int(input())\n",
        "if salary >=250000 and salary <500000 :\n",
        " print(\"You are Taxable\")\n",
        " print(salary*10/100)\n",
        "if salary >=500000 and salary <750000 :\n",
        "  print(\"You are Taxable\")\n",
        "  print((salary-500000)*20/100)\n",
        "if salary >=750000 and salary <10000000 :\n",
        "  print(\"You are Taxable\")\n",
        "  print((salary-750000)*30/100)\n",
        "if salary >=10000000 :\n",
        "  print(\"You are Taxable\")\n",
        "  print((salary-10000000)*30/100+(salary-10000000)*2/100)\n",
        "else:\n",
        "  print(\"You are not taxable\")"
      ],
      "metadata": {
        "colab": {
          "base_uri": "https://localhost:8080/"
        },
        "id": "qzSD7gemvHxB",
        "outputId": "1c8f478d-9c2e-41c8-bc48-9829c3e4e1ae"
      },
      "execution_count": 1,
      "outputs": [
        {
          "output_type": "stream",
          "name": "stdout",
          "text": [
            "Tax Calculation\n",
            "1000000\n",
            "You are Taxable\n",
            "75000.0\n",
            "You are not taxable\n"
          ]
        }
      ]
    },
    {
      "cell_type": "code",
      "source": [],
      "metadata": {
        "id": "TXNm2DsFwm2j"
      },
      "execution_count": 1,
      "outputs": []
    }
  ]
}