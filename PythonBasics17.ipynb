{
  "nbformat": 4,
  "nbformat_minor": 0,
  "metadata": {
    "colab": {
      "provenance": [],
      "authorship_tag": "ABX9TyO6D6vaaArPyZjqjZtPOYG1",
      "include_colab_link": true
    },
    "kernelspec": {
      "name": "python3",
      "display_name": "Python 3"
    },
    "language_info": {
      "name": "python"
    }
  },
  "cells": [
    {
      "cell_type": "markdown",
      "metadata": {
        "id": "view-in-github",
        "colab_type": "text"
      },
      "source": [
        "<a href=\"https://colab.research.google.com/github/Alex-Kurian/Python-Basics/blob/main/PythonBasics17.ipynb\" target=\"_parent\"><img src=\"https://colab.research.google.com/assets/colab-badge.svg\" alt=\"Open In Colab\"/></a>"
      ]
    },
    {
      "cell_type": "code",
      "execution_count": 1,
      "metadata": {
        "colab": {
          "base_uri": "https://localhost:8080/"
        },
        "id": "PKepY2CM4Si6",
        "outputId": "98cb3527-c78f-40fd-a5e0-5c9efbddc7e5"
      },
      "outputs": [
        {
          "output_type": "stream",
          "name": "stdout",
          "text": [
            "[[13 17 14]\n",
            " [13 18 10]\n",
            " [15 12 14]\n",
            " [14 13 13]\n",
            " [13 18 18]\n",
            " [12 15 19]]\n",
            "*****\n",
            "17\n",
            "13\n"
          ]
        }
      ],
      "source": [
        "import numpy as np\n",
        "values=np.random.randint(10,20,(6,3))\n",
        "print(values)\n",
        "print(\"*****\")\n",
        "print(values[0][1])\n",
        "print(values[3][1])"
      ]
    },
    {
      "cell_type": "code",
      "source": [
        "print(values[1:4])"
      ],
      "metadata": {
        "colab": {
          "base_uri": "https://localhost:8080/"
        },
        "id": "EzPxNIE65TXL",
        "outputId": "7e7c7328-b962-418c-c0e9-5e3bdd89e59b"
      },
      "execution_count": 2,
      "outputs": [
        {
          "output_type": "stream",
          "name": "stdout",
          "text": [
            "[[13 18 10]\n",
            " [15 12 14]\n",
            " [14 13 13]]\n"
          ]
        }
      ]
    },
    {
      "cell_type": "code",
      "source": [
        "print(values[:4])\n",
        "print(values[0:])"
      ],
      "metadata": {
        "colab": {
          "base_uri": "https://localhost:8080/"
        },
        "id": "nYTucuxA7J--",
        "outputId": "345445a7-f30f-45e5-ba8f-c452c8acbac6"
      },
      "execution_count": 3,
      "outputs": [
        {
          "output_type": "stream",
          "name": "stdout",
          "text": [
            "[[13 17 14]\n",
            " [13 18 10]\n",
            " [15 12 14]\n",
            " [14 13 13]]\n",
            "[[13 17 14]\n",
            " [13 18 10]\n",
            " [15 12 14]\n",
            " [14 13 13]\n",
            " [13 18 18]\n",
            " [12 15 19]]\n"
          ]
        }
      ]
    },
    {
      "cell_type": "code",
      "source": [
        "print(values[2],[2])"
      ],
      "metadata": {
        "colab": {
          "base_uri": "https://localhost:8080/"
        },
        "id": "GcUoAz0k7UQx",
        "outputId": "89bfb5e3-5c24-4781-b9e2-2c54cd234350"
      },
      "execution_count": 4,
      "outputs": [
        {
          "output_type": "stream",
          "name": "stdout",
          "text": [
            "[15 12 14] [2]\n"
          ]
        }
      ]
    },
    {
      "cell_type": "code",
      "source": [],
      "metadata": {
        "id": "NqjZHq7x8grR"
      },
      "execution_count": 4,
      "outputs": []
    }
  ]
}