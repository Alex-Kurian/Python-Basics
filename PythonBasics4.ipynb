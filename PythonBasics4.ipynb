{
  "nbformat": 4,
  "nbformat_minor": 0,
  "metadata": {
    "colab": {
      "provenance": [],
      "collapsed_sections": [],
      "authorship_tag": "ABX9TyN1Yg6fxAx40OmHsj1ncW7M",
      "include_colab_link": true
    },
    "kernelspec": {
      "name": "python3",
      "display_name": "Python 3"
    },
    "language_info": {
      "name": "python"
    }
  },
  "cells": [
    {
      "cell_type": "markdown",
      "metadata": {
        "id": "view-in-github",
        "colab_type": "text"
      },
      "source": [
        "<a href=\"https://colab.research.google.com/github/Alex-Kurian/Python-Basics/blob/main/PythonBasics4.ipynb\" target=\"_parent\"><img src=\"https://colab.research.google.com/assets/colab-badge.svg\" alt=\"Open In Colab\"/></a>"
      ]
    },
    {
      "cell_type": "code",
      "execution_count": 1,
      "metadata": {
        "colab": {
          "base_uri": "https://localhost:8080/"
        },
        "id": "e9JeTntSYY-N",
        "outputId": "7d1df9ec-174a-4023-c33d-cec232c4f83d"
      },
      "outputs": [
        {
          "output_type": "stream",
          "name": "stdout",
          "text": [
            "[10, 20, 30, 40]\n",
            "<class 'list'>\n"
          ]
        },
        {
          "output_type": "execute_result",
          "data": {
            "text/plain": [
              "10"
            ]
          },
          "metadata": {},
          "execution_count": 1
        }
      ],
      "source": [
        "x=[10,20,30,40]\n",
        "y=[35,46,22,96]\n",
        "print(x)\n",
        "print(type(x))\n",
        "x[0]\n"
      ]
    },
    {
      "cell_type": "code",
      "source": [
        "x=[10,20,30,40]\n",
        "y=[35,46,22,96]\n",
        "x[0]*y[0]+x[1]*y[1]+x[2]*y[2]+x[3]*y[3]\n",
        "\n"
      ],
      "metadata": {
        "colab": {
          "base_uri": "https://localhost:8080/"
        },
        "id": "knmjai7lYv3M",
        "outputId": "b858f889-13f3-4a71-d569-e151e960c829"
      },
      "execution_count": 2,
      "outputs": [
        {
          "output_type": "execute_result",
          "data": {
            "text/plain": [
              "5770"
            ]
          },
          "metadata": {},
          "execution_count": 2
        }
      ]
    },
    {
      "cell_type": "code",
      "source": [
        "x=['Kerala','Tamil Nadu']\n",
        "y=['Chennai','Trivandram']\n",
        "print(x[0],y[1])\n",
        "print(x[1],y[0])"
      ],
      "metadata": {
        "colab": {
          "base_uri": "https://localhost:8080/"
        },
        "id": "rtmdU6eNa7OV",
        "outputId": "aec80802-9731-4196-d5c9-698892ee1974"
      },
      "execution_count": 3,
      "outputs": [
        {
          "output_type": "stream",
          "name": "stdout",
          "text": [
            "Kerala Trivandram\n",
            "Tamil Nadu Chennai\n"
          ]
        }
      ]
    },
    {
      "cell_type": "code",
      "source": [
        "x=[10,25,26,35,10,55]\n",
        "y=[35,46,22,96]\n",
        "#x[-1]*y[-1]+x[-2]*y[-2]+x[-3]*y[-3]+x[-4]*y[-4]\n",
        "x[-5]*x[-3]"
      ],
      "metadata": {
        "colab": {
          "base_uri": "https://localhost:8080/"
        },
        "id": "WjQjEoTae5g0",
        "outputId": "61118eba-3f9b-47f7-bec0-51196be0a6ba"
      },
      "execution_count": 4,
      "outputs": [
        {
          "output_type": "execute_result",
          "data": {
            "text/plain": [
              "875"
            ]
          },
          "metadata": {},
          "execution_count": 4
        }
      ]
    },
    {
      "cell_type": "code",
      "source": [
        "if x[5]==55:\n",
        "  print('X is 55')\n",
        "else:\n",
        "  print('X is not 55')"
      ],
      "metadata": {
        "colab": {
          "base_uri": "https://localhost:8080/"
        },
        "id": "2mU4UdfNgTdW",
        "outputId": "1e472b9b-1b3f-4fb4-e960-f3c2fbace6bb"
      },
      "execution_count": 5,
      "outputs": [
        {
          "output_type": "stream",
          "name": "stdout",
          "text": [
            "X is 55\n"
          ]
        }
      ]
    },
    {
      "cell_type": "code",
      "source": [
        "x='Alex Kurian'\n",
        "x[-1]"
      ],
      "metadata": {
        "colab": {
          "base_uri": "https://localhost:8080/",
          "height": 35
        },
        "id": "wJrK9ToDilT7",
        "outputId": "d3b0874f-247b-42ea-8271-a50394ed221b"
      },
      "execution_count": 6,
      "outputs": [
        {
          "output_type": "execute_result",
          "data": {
            "text/plain": [
              "'n'"
            ],
            "application/vnd.google.colaboratory.intrinsic+json": {
              "type": "string"
            }
          },
          "metadata": {},
          "execution_count": 6
        }
      ]
    },
    {
      "cell_type": "code",
      "source": [
        "if x[0]==x[-1]:\n",
        "  print('Letters of yous name are same')\n",
        "else:\n",
        "  print('Letters of your name are not same')"
      ],
      "metadata": {
        "colab": {
          "base_uri": "https://localhost:8080/"
        },
        "id": "XJ9LOwzaj6W6",
        "outputId": "d051983f-4cb3-45c8-d6b0-7db50e3fce6c"
      },
      "execution_count": 7,
      "outputs": [
        {
          "output_type": "stream",
          "name": "stdout",
          "text": [
            "Letters of your name are not same\n"
          ]
        }
      ]
    },
    {
      "cell_type": "code",
      "source": [
        "x=[10,25,26,35,10,55]\n",
        "for a in x:\n",
        "  print(a)"
      ],
      "metadata": {
        "colab": {
          "base_uri": "https://localhost:8080/"
        },
        "id": "nh5bdb2dk5WN",
        "outputId": "6d3af059-03f8-4102-9e92-453ed5db1080"
      },
      "execution_count": 8,
      "outputs": [
        {
          "output_type": "stream",
          "name": "stdout",
          "text": [
            "10\n",
            "25\n",
            "26\n",
            "35\n",
            "10\n",
            "55\n"
          ]
        }
      ]
    },
    {
      "cell_type": "code",
      "source": [
        "x='Alex Kurian'\n",
        "for a in x:\n",
        "  print(a)"
      ],
      "metadata": {
        "colab": {
          "base_uri": "https://localhost:8080/"
        },
        "id": "iXvJMa2Dm2E1",
        "outputId": "7c32613e-b5f1-49d2-9c81-7ac2770e024f"
      },
      "execution_count": 9,
      "outputs": [
        {
          "output_type": "stream",
          "name": "stdout",
          "text": [
            "A\n",
            "l\n",
            "e\n",
            "x\n",
            " \n",
            "K\n",
            "u\n",
            "r\n",
            "i\n",
            "a\n",
            "n\n"
          ]
        }
      ]
    },
    {
      "cell_type": "code",
      "source": [
        "x='Alex Kurian'\n",
        "for a in x:\n",
        "  if a=='i':\n",
        "    print(\"You're name has the letter\")\n",
        "  "
      ],
      "metadata": {
        "colab": {
          "base_uri": "https://localhost:8080/"
        },
        "id": "n3FORQfXm_Ec",
        "outputId": "7f872adf-e454-4559-a3ea-d9426c01b2f7"
      },
      "execution_count": 10,
      "outputs": [
        {
          "output_type": "stream",
          "name": "stdout",
          "text": [
            "You're name has the letter\n"
          ]
        }
      ]
    },
    {
      "cell_type": "code",
      "source": [
        "x=[10,25,26,35,10,55]\n",
        "K=0\n",
        "for a in x:\n",
        "  print('K=',K)\n",
        "  print('a=',a)\n",
        "  K=K+a\n",
        "  print('K+a=',K)"
      ],
      "metadata": {
        "colab": {
          "base_uri": "https://localhost:8080/"
        },
        "id": "GBJQZMfAofpm",
        "outputId": "fb512206-2485-445b-c8c5-a8358d4aa397"
      },
      "execution_count": 11,
      "outputs": [
        {
          "output_type": "stream",
          "name": "stdout",
          "text": [
            "K= 0\n",
            "a= 10\n",
            "K+a= 10\n",
            "K= 10\n",
            "a= 25\n",
            "K+a= 35\n",
            "K= 35\n",
            "a= 26\n",
            "K+a= 61\n",
            "K= 61\n",
            "a= 35\n",
            "K+a= 96\n",
            "K= 96\n",
            "a= 10\n",
            "K+a= 106\n",
            "K= 106\n",
            "a= 55\n",
            "K+a= 161\n"
          ]
        }
      ]
    },
    {
      "cell_type": "code",
      "source": [],
      "metadata": {
        "id": "jKycmG7-sJPU"
      },
      "execution_count": 11,
      "outputs": []
    }
  ]
}