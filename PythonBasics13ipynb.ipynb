{
  "nbformat": 4,
  "nbformat_minor": 0,
  "metadata": {
    "colab": {
      "provenance": [],
      "authorship_tag": "ABX9TyPjlBsw0znTUxC8HY4MrZU1",
      "include_colab_link": true
    },
    "kernelspec": {
      "name": "python3",
      "display_name": "Python 3"
    },
    "language_info": {
      "name": "python"
    }
  },
  "cells": [
    {
      "cell_type": "markdown",
      "metadata": {
        "id": "view-in-github",
        "colab_type": "text"
      },
      "source": [
        "<a href=\"https://colab.research.google.com/github/Alex-Kurian/Python-Basics/blob/main/PythonBasics13ipynb.ipynb\" target=\"_parent\"><img src=\"https://colab.research.google.com/assets/colab-badge.svg\" alt=\"Open In Colab\"/></a>"
      ]
    },
    {
      "cell_type": "code",
      "source": [
        "def fun_names():\n",
        "  print('Hello World')\n",
        "\n",
        "fun_names()"
      ],
      "metadata": {
        "colab": {
          "base_uri": "https://localhost:8080/"
        },
        "id": "inLxPNgjIj0z",
        "outputId": "00d53335-3390-4d11-9fa2-fead67946de8"
      },
      "execution_count": 1,
      "outputs": [
        {
          "output_type": "stream",
          "name": "stdout",
          "text": [
            "Hello World\n"
          ]
        }
      ]
    },
    {
      "cell_type": "code",
      "source": [
        "def fun_names(x,y):\n",
        "  print(x +\" \"+ y)\n",
        "\n",
        "fun_names('John','Jacob')"
      ],
      "metadata": {
        "colab": {
          "base_uri": "https://localhost:8080/"
        },
        "id": "tKwrPGjfIjqM",
        "outputId": "9cdc29d7-716d-4c22-aebd-90a22d3cebef"
      },
      "execution_count": 2,
      "outputs": [
        {
          "output_type": "stream",
          "name": "stdout",
          "text": [
            "John Jacob\n"
          ]
        }
      ]
    },
    {
      "cell_type": "code",
      "source": [
        "def fun_names(*x):\n",
        "  print('The third student name is : ',x[2])\n",
        "\n",
        "fun_names(1,2,3,4,5,6)"
      ],
      "metadata": {
        "colab": {
          "base_uri": "https://localhost:8080/"
        },
        "id": "8PjMgg1qKku_",
        "outputId": "779e2bd2-5477-470b-86e6-cb06ad09adef"
      },
      "execution_count": 3,
      "outputs": [
        {
          "output_type": "stream",
          "name": "stdout",
          "text": [
            "The third student name is :  3\n"
          ]
        }
      ]
    },
    {
      "cell_type": "code",
      "source": [
        "def fun_name():\n",
        "  print(\"Fifa World Cup 2022\")\n",
        "fun_name()"
      ],
      "metadata": {
        "colab": {
          "base_uri": "https://localhost:8080/"
        },
        "id": "WUHTW6nKry0_",
        "outputId": "538ab8f2-bc59-49e1-be25-aa30f4a3fe8a"
      },
      "execution_count": 4,
      "outputs": [
        {
          "output_type": "stream",
          "name": "stdout",
          "text": [
            "Fifa World Cup 2022\n"
          ]
        }
      ]
    },
    {
      "cell_type": "code",
      "source": [
        "def name(a,b,c):\n",
        "  print(a,b,c )\n",
        "name(\"Alex\",\"\",\"Kurian\")"
      ],
      "metadata": {
        "colab": {
          "base_uri": "https://localhost:8080/"
        },
        "id": "8xn7vWJisfpl",
        "outputId": "d1488f6a-7853-4fde-eec9-41b53133a5b6"
      },
      "execution_count": 5,
      "outputs": [
        {
          "output_type": "stream",
          "name": "stdout",
          "text": [
            "Alex  Kurian\n"
          ]
        }
      ]
    },
    {
      "cell_type": "code",
      "source": [
        "def name(a,b,c):\n",
        "  print(c,b,a)\n",
        "\n",
        "name(c='Kurian',b='',a='Alex')"
      ],
      "metadata": {
        "colab": {
          "base_uri": "https://localhost:8080/"
        },
        "id": "ds0KUZL8I4D5",
        "outputId": "f8987ff7-a6e2-470e-b69d-054658395295"
      },
      "execution_count": 6,
      "outputs": [
        {
          "output_type": "stream",
          "name": "stdout",
          "text": [
            "Kurian  Alex\n"
          ]
        }
      ]
    },
    {
      "cell_type": "code",
      "source": [
        "def fun_names(*x):\n",
        "  print('The second favorite football player:',x[1])\n",
        "\n",
        "fun_names('Messi','Ronaldo','Neymar')"
      ],
      "metadata": {
        "colab": {
          "base_uri": "https://localhost:8080/"
        },
        "id": "HqsR2-qhJUr_",
        "outputId": "b917e023-3396-43a9-8cb9-9f321b5669bc"
      },
      "execution_count": 7,
      "outputs": [
        {
          "output_type": "stream",
          "name": "stdout",
          "text": [
            "The second favorite football player: Ronaldo\n"
          ]
        }
      ]
    },
    {
      "cell_type": "code",
      "source": [
        "def fun_name(country=\"Norway\"):\n",
        "  print(\"I am from \"+country)\n",
        "fun_name()"
      ],
      "metadata": {
        "id": "o6_ikH6FsfeE",
        "colab": {
          "base_uri": "https://localhost:8080/"
        },
        "outputId": "79bb56a6-b132-4b86-fa3b-a89cb156d50e"
      },
      "execution_count": 8,
      "outputs": [
        {
          "output_type": "stream",
          "name": "stdout",
          "text": [
            "I am from Norway\n"
          ]
        }
      ]
    },
    {
      "cell_type": "code",
      "source": [
        "def team(c1,c2,c3='Mexico'):\n",
        "  print(\"My favourite team is  \" + c1 + c2 + c3)\n",
        "\n",
        "team('Norway ','India ')"
      ],
      "metadata": {
        "colab": {
          "base_uri": "https://localhost:8080/"
        },
        "id": "2YMR-1xNsfYG",
        "outputId": "bbbb9156-9a4c-4dc4-f193-6e48c2523913"
      },
      "execution_count": 9,
      "outputs": [
        {
          "output_type": "stream",
          "name": "stdout",
          "text": [
            "My favourite team is  Norway India Mexico\n"
          ]
        }
      ]
    },
    {
      "cell_type": "code",
      "source": [],
      "metadata": {
        "id": "uunS-CBZsfPl"
      },
      "execution_count": 9,
      "outputs": []
    }
  ]
}