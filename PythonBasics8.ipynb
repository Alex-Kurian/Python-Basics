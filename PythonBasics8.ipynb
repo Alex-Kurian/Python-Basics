{
  "nbformat": 4,
  "nbformat_minor": 0,
  "metadata": {
    "colab": {
      "provenance": [],
      "authorship_tag": "ABX9TyO4rAZmBgv764mU4yB8LBLW",
      "include_colab_link": true
    },
    "kernelspec": {
      "name": "python3",
      "display_name": "Python 3"
    },
    "language_info": {
      "name": "python"
    }
  },
  "cells": [
    {
      "cell_type": "markdown",
      "metadata": {
        "id": "view-in-github",
        "colab_type": "text"
      },
      "source": [
        "<a href=\"https://colab.research.google.com/github/Alex-Kurian/Python-Basics/blob/main/PythonBasics8.ipynb\" target=\"_parent\"><img src=\"https://colab.research.google.com/assets/colab-badge.svg\" alt=\"Open In Colab\"/></a>"
      ]
    },
    {
      "cell_type": "code",
      "execution_count": 1,
      "metadata": {
        "colab": {
          "base_uri": "https://localhost:8080/"
        },
        "id": "FDqAciWhoClG",
        "outputId": "f15564c6-d9d0-410d-d38b-7bc0adc65385"
      },
      "outputs": [
        {
          "name": "stdout",
          "output_type": "stream",
          "text": [
            "Travel Source - Kerala\n",
            "Travel Destination - Delhi\n",
            "Number of Passengers - 3\n"
          ]
        }
      ],
      "source": [
        "#Practice Q.1\n",
        "Tsource=input(\"Travel Source - \")\n",
        "Tdest=input(\"Travel Destination - \")\n",
        "Pnum=int(input(\"Number of Passengers - \"))\n",
        "#print(Tsource)\n",
        "#print(Tdest)\n",
        "#print(Pnum)"
      ]
    },
    {
      "cell_type": "code",
      "source": [
        "#Practice Q.2\n",
        "TFare=int(input(\"Total Fare - \"))\n",
        "Pnum=int(input(\"Number of Passengers - \"))\n",
        "print(\"Fare Per Person - \",TFare/Pnum)"
      ],
      "metadata": {
        "colab": {
          "base_uri": "https://localhost:8080/"
        },
        "id": "A5OoaBBAoSzt",
        "outputId": "7ba88416-60fd-4cce-a9d7-88681dca81f4"
      },
      "execution_count": 2,
      "outputs": [
        {
          "output_type": "stream",
          "name": "stdout",
          "text": [
            "Total Fare - 100\n",
            "Number of Passengers - 2\n",
            "Fare Per Person -  50.0\n"
          ]
        }
      ]
    },
    {
      "cell_type": "code",
      "source": [
        "#Practice Q.3\n",
        "Pname=input(\"Passenger's Name - \")\n",
        "TicFare=int(input(\"Ticket Fare - \"))\n",
        "print(Pname,\" - \",TicFare)"
      ],
      "metadata": {
        "colab": {
          "base_uri": "https://localhost:8080/"
        },
        "id": "Zl3uitGQoTcc",
        "outputId": "dc51289c-dc72-4a7b-a328-69f43c53c0a5"
      },
      "execution_count": 3,
      "outputs": [
        {
          "output_type": "stream",
          "name": "stdout",
          "text": [
            "Passenger's Name - Alex\n",
            "Ticket Fare - 100\n",
            "Alex  -  100\n"
          ]
        }
      ]
    },
    {
      "cell_type": "code",
      "source": [
        "#Practice Q.4 If-Else\n",
        "TFare=int(input(\"Total Fare - \"))\n",
        "if TFare>10000:\n",
        "  print(\"Eligible for Discount\")\n",
        "else:\n",
        "  print(\"Not Eligible for Discount\")\n"
      ],
      "metadata": {
        "colab": {
          "base_uri": "https://localhost:8080/"
        },
        "id": "ViSVBEXqoTVD",
        "outputId": "1959b14a-588f-479a-fa6b-eef4935c4b13"
      },
      "execution_count": 4,
      "outputs": [
        {
          "output_type": "stream",
          "name": "stdout",
          "text": [
            "Total Fare - 15000\n",
            "Eligible for Discount\n"
          ]
        }
      ]
    },
    {
      "cell_type": "code",
      "source": [
        "#Practice Q.5 If-Else\n",
        "TFare=int(input(\"Total Fare - \"))\n",
        "if TFare>15000:\n",
        "  print(\"Eligible for 20% Discount\")\n",
        "else:\n",
        "  print(\"Eligible for 10% Discount\")"
      ],
      "metadata": {
        "colab": {
          "base_uri": "https://localhost:8080/"
        },
        "id": "k98fs5v4oTMF",
        "outputId": "d26169fe-4910-4de2-b1ff-63c463b50032"
      },
      "execution_count": 5,
      "outputs": [
        {
          "output_type": "stream",
          "name": "stdout",
          "text": [
            "Total Fare - 15001\n",
            "Eligible for 20% Discount\n"
          ]
        }
      ]
    },
    {
      "cell_type": "code",
      "source": [
        "#Practice Q.6 If-Else\n",
        "TFare=int(input(\"Total Fare - \"))\n",
        "if TFare>15000:\n",
        "  print(\"Eligible for 20% Discount\")\n",
        "  DFare=TFare-(TFare*20/100)\n",
        "  print(\"Discounted Fare= \",DFare)\n",
        "elif TFare>10000:\n",
        "  print(\"Eligible for 10% Discount\")\n",
        "  DFare=TFare-(TFare*10/100)\n",
        "  print(\"Discounted Fare= \",DFare)\n",
        "else:\n",
        "  print(\"Eligible for 5% Discount\")\n",
        "  DFare=TFare-(TFare*5/100)\n",
        "  print(\"Discounted Fare= \",DFare)"
      ],
      "metadata": {
        "colab": {
          "base_uri": "https://localhost:8080/"
        },
        "id": "yCbhxOlSqgak",
        "outputId": "c1d59e54-2dfe-4a2b-ef11-a0aa27b45740"
      },
      "execution_count": 6,
      "outputs": [
        {
          "output_type": "stream",
          "name": "stdout",
          "text": [
            "Total Fare - 20000\n",
            "Eligible for 20% Discount\n",
            "Discounted Fare=  16000.0\n"
          ]
        }
      ]
    },
    {
      "cell_type": "code",
      "source": [
        "#Practice Q.7 If-Elif-Else\n",
        "X=int(input(\"Number = \"))\n",
        "type(X)\n",
        "if X>0:\n",
        "  print(\"Number is Positive\")\n",
        "elif X==0:\n",
        "  print(\"Number is Zero\")\n",
        "else:\n",
        "  print(\"Number is Negative\")"
      ],
      "metadata": {
        "colab": {
          "base_uri": "https://localhost:8080/"
        },
        "id": "X8t6XkZTt2YI",
        "outputId": "5059b312-e2ac-410a-d308-6c2620e086bf"
      },
      "execution_count": 7,
      "outputs": [
        {
          "output_type": "stream",
          "name": "stdout",
          "text": [
            "Number = 4\n",
            "Number is Positive\n"
          ]
        }
      ]
    },
    {
      "cell_type": "code",
      "source": [
        "#Practice Q.8 If-Elif-Else\n",
        "Pname=input(\"Passengr Name - \")\n",
        "PAge=int(input(\"Passengr Age - \"))\n",
        "if PAge>18:\n",
        "  print(\"Adult\")\n",
        "elif PAge>=13:\n",
        "  print(\"Teenager\")\n",
        "elif PAge>=6:\n",
        "  print(\"Kid\")\n",
        "elif PAge>=2:\n",
        "  print(\"Toddler\")\n",
        "else:\n",
        "  print(\"Infant\")"
      ],
      "metadata": {
        "colab": {
          "base_uri": "https://localhost:8080/"
        },
        "id": "TELXJLpdw1gq",
        "outputId": "942dcbfe-96da-4080-c836-d1d95ccba01c"
      },
      "execution_count": 8,
      "outputs": [
        {
          "output_type": "stream",
          "name": "stdout",
          "text": [
            "Passengr Name - Alex\n",
            "Passengr Age - 19\n",
            "Adult\n"
          ]
        }
      ]
    },
    {
      "cell_type": "code",
      "source": [
        "#Practice Q.9 If-Elif-Else\n",
        "X=['a','e','i','o','u','A','E','I','O','U']\n",
        "#FName=input(\"Passengr First Name - \")\n",
        "SName=input(\"Passengr Initial - \")\n",
        "if SName in X:\n",
        "  print(\"It's a vowel\")\n",
        "else:\n",
        "  print(\"Not a Vowel\")\n",
        "\n"
      ],
      "metadata": {
        "id": "NOfiTLiWw1ZL",
        "colab": {
          "base_uri": "https://localhost:8080/"
        },
        "outputId": "8bba3b3d-b301-498a-bf12-dde6d97edd94"
      },
      "execution_count": 9,
      "outputs": [
        {
          "output_type": "stream",
          "name": "stdout",
          "text": [
            "Passengr Initial - Kurian\n",
            "Not a Vowel\n"
          ]
        }
      ]
    },
    {
      "cell_type": "code",
      "source": [
        "#Practice Q.10 For loop\n",
        "Pname=input(\"Passengr Name - \")\n",
        "for a in Pname:\n",
        "  print(a)\n",
        "\n"
      ],
      "metadata": {
        "colab": {
          "base_uri": "https://localhost:8080/"
        },
        "id": "Isk-JdGF0Lla",
        "outputId": "48fa1b5d-1bb9-4023-e4ca-667d068bc3ba"
      },
      "execution_count": 10,
      "outputs": [
        {
          "output_type": "stream",
          "name": "stdout",
          "text": [
            "Passengr Name - Alex\n",
            "A\n",
            "l\n",
            "e\n",
            "x\n"
          ]
        }
      ]
    },
    {
      "cell_type": "code",
      "source": [
        "#Practice Q.11 For loop\n",
        "#a.\n",
        "for a in range(44,88):\n",
        "  if a%2!=0:\n",
        "    print(a)\n",
        "\n"
      ],
      "metadata": {
        "colab": {
          "base_uri": "https://localhost:8080/"
        },
        "id": "L3n-kOVm0Li1",
        "outputId": "1b609a3f-9681-4f3e-d6df-1db1e9152ae4"
      },
      "execution_count": 11,
      "outputs": [
        {
          "output_type": "stream",
          "name": "stdout",
          "text": [
            "45\n",
            "47\n",
            "49\n",
            "51\n",
            "53\n",
            "55\n",
            "57\n",
            "59\n",
            "61\n",
            "63\n",
            "65\n",
            "67\n",
            "69\n",
            "71\n",
            "73\n",
            "75\n",
            "77\n",
            "79\n",
            "81\n",
            "83\n",
            "85\n",
            "87\n"
          ]
        }
      ]
    },
    {
      "cell_type": "code",
      "source": [
        "#Practice Q.11 For loop\n",
        "#b.\n",
        "k=0\n",
        "for a in range(1,11):\n",
        "  k=k+a\n",
        "  print(a,k)\n",
        "  "
      ],
      "metadata": {
        "colab": {
          "base_uri": "https://localhost:8080/"
        },
        "id": "0Lwk6k2F7yzV",
        "outputId": "6f81ddb6-4efa-4562-d54b-066ed4a58a62"
      },
      "execution_count": 12,
      "outputs": [
        {
          "output_type": "stream",
          "name": "stdout",
          "text": [
            "1 1\n",
            "2 3\n",
            "3 6\n",
            "4 10\n",
            "5 15\n",
            "6 21\n",
            "7 28\n",
            "8 36\n",
            "9 45\n",
            "10 55\n"
          ]
        }
      ]
    },
    {
      "cell_type": "code",
      "source": [
        "#Practice Q.12 For loop\n",
        "#k=0\n",
        "#for a in range(1,5):\n",
        "\n",
        "\n",
        "\n"
      ],
      "metadata": {
        "id": "x7OvT9Vc0Lft"
      },
      "execution_count": null,
      "outputs": []
    },
    {
      "cell_type": "code",
      "source": [
        "#Practice Q.13 While loop\n",
        "#while:\n",
        "  #Pname=input(\"Passengr Name - \")\n",
        "  #PAge=int(input(\"Passengr Age - \"))\n"
      ],
      "metadata": {
        "id": "qGW6bTre0LZP"
      },
      "execution_count": null,
      "outputs": []
    },
    {
      "cell_type": "code",
      "source": [],
      "metadata": {
        "id": "g3M9H1r8_SOx"
      },
      "execution_count": null,
      "outputs": []
    }
  ]
}