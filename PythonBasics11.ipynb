{
  "nbformat": 4,
  "nbformat_minor": 0,
  "metadata": {
    "colab": {
      "provenance": [],
      "authorship_tag": "ABX9TyM9aoUccmBATFhkXd6UNne9",
      "include_colab_link": true
    },
    "kernelspec": {
      "name": "python3",
      "display_name": "Python 3"
    },
    "language_info": {
      "name": "python"
    }
  },
  "cells": [
    {
      "cell_type": "markdown",
      "metadata": {
        "id": "view-in-github",
        "colab_type": "text"
      },
      "source": [
        "<a href=\"https://colab.research.google.com/github/Alex-Kurian/Python-Basics/blob/main/PythonBasics11.ipynb\" target=\"_parent\"><img src=\"https://colab.research.google.com/assets/colab-badge.svg\" alt=\"Open In Colab\"/></a>"
      ]
    },
    {
      "cell_type": "code",
      "execution_count": 1,
      "metadata": {
        "colab": {
          "base_uri": "https://localhost:8080/"
        },
        "id": "4CuMB-WorO8F",
        "outputId": "59df9130-18ff-4222-848a-23ad5e761eef"
      },
      "outputs": [
        {
          "output_type": "stream",
          "name": "stdout",
          "text": [
            "Number to Multiply=5\n",
            "Times to Multiply=5\n",
            "5 * 1 = 5\n",
            "5 * 2 = 10\n",
            "5 * 3 = 15\n",
            "5 * 4 = 20\n",
            "5 * 5 = 25\n"
          ]
        }
      ],
      "source": [
        "#Practice Q.\n",
        "#For loop\n",
        "#Q1.\n",
        "num=int(input(\"Number to Multiply=\"))\n",
        "n2=int(input(\"Times to Multiply=\"))\n",
        "for i in range(1,n2+1):\n",
        "  print(num,\"*\",i,\"=\",i*num)"
      ]
    },
    {
      "cell_type": "code",
      "source": [
        "num=int(input(\"Number to Multiply=\"))\n",
        "i=1\n",
        "while(i<=10):\n",
        "  print(num,\"*\",i,\"=\",i*num)\n",
        "  i=i+1"
      ],
      "metadata": {
        "colab": {
          "base_uri": "https://localhost:8080/"
        },
        "id": "GIPg4UbnxoK0",
        "outputId": "7fa29a7b-7a19-4464-f23e-6fdfc54b3ecc"
      },
      "execution_count": 2,
      "outputs": [
        {
          "output_type": "stream",
          "name": "stdout",
          "text": [
            "Number to Multiply=5\n",
            "5 * 1 = 5\n",
            "5 * 2 = 10\n",
            "5 * 3 = 15\n",
            "5 * 4 = 20\n",
            "5 * 5 = 25\n",
            "5 * 6 = 30\n",
            "5 * 7 = 35\n",
            "5 * 8 = 40\n",
            "5 * 9 = 45\n",
            "5 * 10 = 50\n"
          ]
        }
      ]
    },
    {
      "cell_type": "code",
      "source": [
        "#Q2.\n",
        "n1=input(\"Number= \")\n",
        "d=0\n",
        "for i in n1:\n",
        "  #print(i)\n",
        "  d=d+1\n",
        "print(d)"
      ],
      "metadata": {
        "colab": {
          "base_uri": "https://localhost:8080/"
        },
        "id": "PzVixNxruwLj",
        "outputId": "44d886fb-08bb-4876-dfb1-857368116c4b"
      },
      "execution_count": 3,
      "outputs": [
        {
          "output_type": "stream",
          "name": "stdout",
          "text": [
            "Number= 56546\n",
            "5\n"
          ]
        }
      ]
    },
    {
      "cell_type": "code",
      "source": [
        "x=input(\"Enter Word= \")\n",
        "w= \"\"\n",
        "for i in x:  \n",
        "  w=i+w\n",
        "#print(w)\n",
        "if x==w: \n",
        "  print('True')\n",
        "else:\n",
        "  print('False')"
      ],
      "metadata": {
        "colab": {
          "base_uri": "https://localhost:8080/"
        },
        "id": "jdDUTdNQwYIT",
        "outputId": "48a39dfd-6f66-40ee-e4cb-43acc5a6596e"
      },
      "execution_count": 4,
      "outputs": [
        {
          "output_type": "stream",
          "name": "stdout",
          "text": [
            "Enter Word= AMMA\n",
            "True\n"
          ]
        }
      ]
    },
    {
      "cell_type": "code",
      "source": [
        "name=input(\"Enter the name: \")\n",
        "if name.isupper():\n",
        "  print(name.lower())\n",
        "if name.islower():\n",
        "  print(name.upper())\n",
        "print(len(name))"
      ],
      "metadata": {
        "id": "vzn1E_Sc7vaW",
        "colab": {
          "base_uri": "https://localhost:8080/"
        },
        "outputId": "0969bb26-15f2-437f-becf-837244865457"
      },
      "execution_count": 5,
      "outputs": [
        {
          "output_type": "stream",
          "name": "stdout",
          "text": [
            "Enter the name: ALEX\n",
            "alex\n",
            "4\n"
          ]
        }
      ]
    },
    {
      "cell_type": "code",
      "source": [
        "n=input('Enter username= ')\n",
        "a=input('Enter the letter to be replaced= ')\n",
        "b=input('Enter the letter to replace= ')\n",
        "if a in n:\n",
        "  print(n.replace(a,b))"
      ],
      "metadata": {
        "id": "pmCMxd4g8CbE",
        "colab": {
          "base_uri": "https://localhost:8080/"
        },
        "outputId": "9796dd66-6033-412b-f094-338e711c27d9"
      },
      "execution_count": 6,
      "outputs": [
        {
          "output_type": "stream",
          "name": "stdout",
          "text": [
            "Enter username= VYSAKHA\n",
            "Enter the letter to be replaced= A\n",
            "Enter the letter to replace= H\n",
            "VYSHKHH\n"
          ]
        }
      ]
    },
    {
      "cell_type": "code",
      "source": [
        "C1=input('Enter Country name: ')\n",
        "C2=input('Enter Country name: ')\n",
        "C3=input('Enter Country name: ')\n",
        "C4=input('Enter Country name: ')\n",
        "C5=input('Enter Country name: ')\n",
        "L=[C1,C2,C3,C4,C5]\n",
        "print(sorted(L))\n",
        "C6=input('Enter another country name ')\n",
        "L.append(C6)\n",
        "print(L)\n",
        "L.remove(C2)\n",
        "print(L)"
      ],
      "metadata": {
        "colab": {
          "base_uri": "https://localhost:8080/"
        },
        "id": "n-X03rEXCuPQ",
        "outputId": "cf6c7023-220c-44bc-c3cd-409f2b1ae450"
      },
      "execution_count": 7,
      "outputs": [
        {
          "output_type": "stream",
          "name": "stdout",
          "text": [
            "Enter Country name: India\n",
            "Enter Country name: USA\n",
            "Enter Country name: UK\n",
            "Enter Country name: Russia\n",
            "Enter Country name: Wales\n",
            "['India', 'Russia', 'UK', 'USA', 'Wales']\n",
            "Enter another country name Canada\n",
            "['India', 'USA', 'UK', 'Russia', 'Wales', 'Canada']\n",
            "['India', 'UK', 'Russia', 'Wales', 'Canada']\n"
          ]
        }
      ]
    },
    {
      "cell_type": "code",
      "source": [],
      "metadata": {
        "id": "iceY6XVFDkFX"
      },
      "execution_count": 7,
      "outputs": []
    }
  ]
}