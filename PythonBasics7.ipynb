{
  "nbformat": 4,
  "nbformat_minor": 0,
  "metadata": {
    "colab": {
      "provenance": [],
      "authorship_tag": "ABX9TyNAZdII+QZYWuiWHC/QCTHO",
      "include_colab_link": true
    },
    "kernelspec": {
      "name": "python3",
      "display_name": "Python 3"
    },
    "language_info": {
      "name": "python"
    }
  },
  "cells": [
    {
      "cell_type": "markdown",
      "metadata": {
        "id": "view-in-github",
        "colab_type": "text"
      },
      "source": [
        "<a href=\"https://colab.research.google.com/github/Alex-Kurian/Python-Basics/blob/main/PythonBasics7.ipynb\" target=\"_parent\"><img src=\"https://colab.research.google.com/assets/colab-badge.svg\" alt=\"Open In Colab\"/></a>"
      ]
    },
    {
      "cell_type": "code",
      "execution_count": 1,
      "metadata": {
        "colab": {
          "base_uri": "https://localhost:8080/"
        },
        "id": "9pAZhZdOgVIs",
        "outputId": "38840111-1313-47be-966c-71acd7dccf38"
      },
      "outputs": [
        {
          "output_type": "stream",
          "name": "stdout",
          "text": [
            "Enter your Name=Alex\n",
            "Enter your mobile number=8766565665\n",
            "Alex\n",
            "8766565665\n"
          ]
        }
      ],
      "source": [
        "Name=input(\"Enter your Name=\")\n",
        "Number=int(input(\"Enter your mobile number=\"))\n",
        "print(Name)\n",
        "print(Number)"
      ]
    },
    {
      "cell_type": "code",
      "source": [
        "Sname=input(\"Student Name= \")\n",
        "NS=int(input(\"Number of Subjects= \"))\n",
        "S1=int(input(\"Subject 1 Mark= \"))\n",
        "S2=int(input(\"Subject 2 Mark= \"))\n",
        "S3=int(input(\"Subject 3 Mark= \"))\n",
        "Total=S1+S2+S3\n",
        "Avg=Total/NS\n",
        "print(Sname)\n",
        "print(Total)\n",
        "print(Avg)\n",
        "\n",
        "\n",
        "\n"
      ],
      "metadata": {
        "colab": {
          "base_uri": "https://localhost:8080/"
        },
        "id": "-3NdBNEZhPU8",
        "outputId": "23b3b6f1-c63e-4bec-ed04-28818516ce05"
      },
      "execution_count": 2,
      "outputs": [
        {
          "output_type": "stream",
          "name": "stdout",
          "text": [
            "Student Name= Alex\n",
            "Number of Subjects= 3\n",
            "Subject 1 Mark= 3\n",
            "Subject 2 Mark= 4\n",
            "Subject 3 Mark= 6\n",
            "Alex\n",
            "13\n",
            "4.333333333333333\n"
          ]
        }
      ]
    },
    {
      "cell_type": "code",
      "source": [
        "N1=int(input(\"First Number= \"))\n",
        "N2=int(input(\"Second Number= \"))\n",
        "N3=int(input(\"Third Number= \"))\n",
        "if N1>N2 and N1>N3:\n",
        "  print(N1,\"is larger\")\n",
        "elif N2>N1 and N2>N3:\n",
        "  print(N2,\"is larger\")\n",
        "else:\n",
        "  print(N3,\"is larger\")"
      ],
      "metadata": {
        "colab": {
          "base_uri": "https://localhost:8080/"
        },
        "id": "o71spfajjaJU",
        "outputId": "767a96c6-27e8-4e8c-e76d-7566648dec6d"
      },
      "execution_count": 3,
      "outputs": [
        {
          "output_type": "stream",
          "name": "stdout",
          "text": [
            "First Number= 34\n",
            "Second Number= 54\n",
            "Third Number= 33\n",
            "54 is larger\n"
          ]
        }
      ]
    },
    {
      "cell_type": "code",
      "source": [
        "n1=int(input(\"Number= \"))\n",
        "if n1%2==0:\n",
        "  print(n1,\"ia an even number\")\n",
        "else:\n",
        "  print(n1,\"is an odd number\")"
      ],
      "metadata": {
        "colab": {
          "base_uri": "https://localhost:8080/"
        },
        "id": "iec8qM6Lmt3K",
        "outputId": "4f526b0f-0a09-4470-db98-8fef62c2c38f"
      },
      "execution_count": 4,
      "outputs": [
        {
          "output_type": "stream",
          "name": "stdout",
          "text": [
            "Number= 6\n",
            "6 ia an even number\n"
          ]
        }
      ]
    },
    {
      "cell_type": "code",
      "source": [
        "for i in range(1,11):\n",
        "  if i%2==0:\n",
        "    print(i)"
      ],
      "metadata": {
        "colab": {
          "base_uri": "https://localhost:8080/"
        },
        "id": "LTp0y4w6vAPi",
        "outputId": "2c8aeafc-fad1-4ee1-c8a3-5abaca0dc674"
      },
      "execution_count": 5,
      "outputs": [
        {
          "output_type": "stream",
          "name": "stdout",
          "text": [
            "2\n",
            "4\n",
            "6\n",
            "8\n",
            "10\n"
          ]
        }
      ]
    },
    {
      "cell_type": "code",
      "source": [
        "k=0\n",
        "for a in range(1,51):\n",
        "  if a%5==0:\n",
        "    k=k+1\n",
        "    print(k,\"*\",\"5\",\"=\",a)"
      ],
      "metadata": {
        "colab": {
          "base_uri": "https://localhost:8080/"
        },
        "id": "SfALjWJwzdJt",
        "outputId": "dd6ff82b-d432-4709-a830-96b14da63139"
      },
      "execution_count": 6,
      "outputs": [
        {
          "output_type": "stream",
          "name": "stdout",
          "text": [
            "1 * 5 = 5\n",
            "2 * 5 = 10\n",
            "3 * 5 = 15\n",
            "4 * 5 = 20\n",
            "5 * 5 = 25\n",
            "6 * 5 = 30\n",
            "7 * 5 = 35\n",
            "8 * 5 = 40\n",
            "9 * 5 = 45\n",
            "10 * 5 = 50\n"
          ]
        }
      ]
    }
  ]
}