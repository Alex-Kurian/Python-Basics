{
  "nbformat": 4,
  "nbformat_minor": 0,
  "metadata": {
    "colab": {
      "provenance": [],
      "authorship_tag": "ABX9TyNJ8tekAm6jqKAcb51DqdEL",
      "include_colab_link": true
    },
    "kernelspec": {
      "name": "python3",
      "display_name": "Python 3"
    },
    "language_info": {
      "name": "python"
    }
  },
  "cells": [
    {
      "cell_type": "markdown",
      "metadata": {
        "id": "view-in-github",
        "colab_type": "text"
      },
      "source": [
        "<a href=\"https://colab.research.google.com/github/Alex-Kurian/Python-Basics/blob/main/PythonBasics7.ipynb\" target=\"_parent\"><img src=\"https://colab.research.google.com/assets/colab-badge.svg\" alt=\"Open In Colab\"/></a>"
      ]
    },
    {
      "cell_type": "code",
      "execution_count": 1,
      "metadata": {
        "colab": {
          "base_uri": "https://localhost:8080/"
        },
        "id": "9pAZhZdOgVIs",
        "outputId": "86d8fb0e-ea9d-41d6-b5be-edc4a99eb3b2"
      },
      "outputs": [
        {
          "output_type": "stream",
          "name": "stdout",
          "text": [
            "Enter your Name=Alex\n",
            "Enter your mobile number=987657464\n",
            "Alex\n",
            "987657464\n"
          ]
        }
      ],
      "source": [
        "Name=input(\"Enter your Name=\")\n",
        "Number=int(input(\"Enter your mobile number=\"))\n",
        "print(Name)\n",
        "print(Number)"
      ]
    },
    {
      "cell_type": "code",
      "source": [
        "Sname=input(\"Student Name= \")\n",
        "NS=int(input(\"Number of Subjects= \"))\n",
        "S1=int(input(\"Subject 1 Mark= \"))\n",
        "S2=int(input(\"Subject 2 Mark= \"))\n",
        "S3=int(input(\"Subject 3 Mark= \"))\n",
        "Total=S1+S2+S3\n",
        "Avg=Total/NS\n",
        "print(Sname)\n",
        "print(Total)\n",
        "print(Avg)\n",
        "\n",
        "\n",
        "\n"
      ],
      "metadata": {
        "colab": {
          "base_uri": "https://localhost:8080/"
        },
        "id": "-3NdBNEZhPU8",
        "outputId": "47a8498f-10e3-4583-9cf7-bda041c6e0f3"
      },
      "execution_count": 2,
      "outputs": [
        {
          "output_type": "stream",
          "name": "stdout",
          "text": [
            "Student Name= Alex\n",
            "Number of Subjects= 3\n",
            "Subject 1 Mark= 23\n",
            "Subject 2 Mark= 43\n",
            "Subject 3 Mark= 23\n",
            "Alex\n",
            "89\n",
            "29.666666666666668\n"
          ]
        }
      ]
    },
    {
      "cell_type": "code",
      "source": [
        "N1=int(input(\"First Number= \"))\n",
        "N2=int(input(\"Second Number= \"))\n",
        "N3=int(input(\"Third Number= \"))\n",
        "if N1>N2 and N1>N3:\n",
        "  print(N1,\"is larger\")\n",
        "elif N2>N1 and N2>N3:\n",
        "  print(N2,\"is larger\")\n",
        "else:\n",
        "  print(N3,\"is larger\")"
      ],
      "metadata": {
        "colab": {
          "base_uri": "https://localhost:8080/"
        },
        "id": "o71spfajjaJU",
        "outputId": "122e2981-8a87-4133-e8ca-f46869afcaa2"
      },
      "execution_count": 3,
      "outputs": [
        {
          "output_type": "stream",
          "name": "stdout",
          "text": [
            "First Number= 3\n",
            "Second Number= 5\n",
            "Third Number= 3\n",
            "5 is larger\n"
          ]
        }
      ]
    },
    {
      "cell_type": "code",
      "source": [
        "n1=int(input(\"Number= \"))\n",
        "if n1%2==0:\n",
        "  print(n1,\"ia an even number\")\n",
        "else:\n",
        "  print(n1,\"is an odd number\")"
      ],
      "metadata": {
        "colab": {
          "base_uri": "https://localhost:8080/"
        },
        "id": "iec8qM6Lmt3K",
        "outputId": "e4252117-0104-4d6d-b414-946ec6424255"
      },
      "execution_count": 4,
      "outputs": [
        {
          "output_type": "stream",
          "name": "stdout",
          "text": [
            "Number= 4\n",
            "4 ia an even number\n"
          ]
        }
      ]
    },
    {
      "cell_type": "code",
      "source": [
        "for i in range(1,11):\n",
        "  if i%2==0:\n",
        "    print(i)"
      ],
      "metadata": {
        "colab": {
          "base_uri": "https://localhost:8080/"
        },
        "id": "LTp0y4w6vAPi",
        "outputId": "e4c38004-b359-43ab-b477-e868f24261bd"
      },
      "execution_count": 5,
      "outputs": [
        {
          "output_type": "stream",
          "name": "stdout",
          "text": [
            "2\n",
            "4\n",
            "6\n",
            "8\n",
            "10\n"
          ]
        }
      ]
    },
    {
      "cell_type": "code",
      "source": [
        "#Multiplication table"
      ],
      "metadata": {
        "id": "SfALjWJwzdJt"
      },
      "execution_count": 6,
      "outputs": []
    }
  ]
}