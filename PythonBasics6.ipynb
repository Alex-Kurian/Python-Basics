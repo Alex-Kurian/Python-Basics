{
  "nbformat": 4,
  "nbformat_minor": 0,
  "metadata": {
    "colab": {
      "provenance": [],
      "authorship_tag": "ABX9TyNAfsvYgOcUJhKPAZEx0Zdr",
      "include_colab_link": true
    },
    "kernelspec": {
      "name": "python3",
      "display_name": "Python 3"
    },
    "language_info": {
      "name": "python"
    }
  },
  "cells": [
    {
      "cell_type": "markdown",
      "metadata": {
        "id": "view-in-github",
        "colab_type": "text"
      },
      "source": [
        "<a href=\"https://colab.research.google.com/github/Alex-Kurian/Python-Basics/blob/main/PythonBasics6.ipynb\" target=\"_parent\"><img src=\"https://colab.research.google.com/assets/colab-badge.svg\" alt=\"Open In Colab\"/></a>"
      ]
    },
    {
      "cell_type": "code",
      "execution_count": 1,
      "metadata": {
        "colab": {
          "base_uri": "https://localhost:8080/"
        },
        "id": "eFO7sCL0rsPv",
        "outputId": "5d947d21-7c96-4732-a6da-f0a2d026fcff"
      },
      "outputs": [
        {
          "output_type": "stream",
          "name": "stdout",
          "text": [
            "HEHEHEHE\n"
          ]
        }
      ],
      "source": [
        "def alex():\n",
        "  print(\"HEHEHEHE\")\n",
        "alex()"
      ]
    },
    {
      "cell_type": "code",
      "source": [
        "def alex1(x,y):\n",
        "  z=x+y\n",
        "  print(\"Result=\",z)\n",
        "alex1(5,6)"
      ],
      "metadata": {
        "colab": {
          "base_uri": "https://localhost:8080/"
        },
        "id": "DGj-NenytPyr",
        "outputId": "f6199799-1a3e-474f-cb89-f93664dbb440"
      },
      "execution_count": 2,
      "outputs": [
        {
          "output_type": "stream",
          "name": "stdout",
          "text": [
            "Result= 11\n"
          ]
        }
      ]
    },
    {
      "cell_type": "code",
      "source": [
        "def alex1(x,y):\n",
        "  z=x*y\n",
        "  print(\"Result=\",z)\n",
        "alex1(5,6)"
      ],
      "metadata": {
        "colab": {
          "base_uri": "https://localhost:8080/"
        },
        "id": "x9FuqLyKvHxV",
        "outputId": "7c293ab2-e6aa-4fe5-ef6f-bf5dc95eae9b"
      },
      "execution_count": 3,
      "outputs": [
        {
          "output_type": "stream",
          "name": "stdout",
          "text": [
            "Result= 30\n"
          ]
        }
      ]
    },
    {
      "cell_type": "code",
      "source": [
        "def A1(S1):\n",
        "  if S1<250000:\n",
        "    print(\"No Tax\")\n",
        "  if S1>250000:\n",
        "    print(\"Tax\")\n",
        "s=int(input(\"Enter your salary=\"))\n",
        "A1(s)"
      ],
      "metadata": {
        "colab": {
          "base_uri": "https://localhost:8080/"
        },
        "id": "wJDWATesy4Qo",
        "outputId": "e3ace8a6-9d9f-43da-b8a0-211517040688"
      },
      "execution_count": 4,
      "outputs": [
        {
          "output_type": "stream",
          "name": "stdout",
          "text": [
            "Enter your salary=2500000\n",
            "Tax\n"
          ]
        }
      ]
    },
    {
      "cell_type": "code",
      "source": [
        "def sal(y):\n",
        "  K=0\n",
        "  for a in range(y):\n",
        "    K=K+a\n",
        "  print(K)\n",
        "s=int(input(\"Enter number=\"))\n",
        "sal(s)\n"
      ],
      "metadata": {
        "colab": {
          "base_uri": "https://localhost:8080/"
        },
        "id": "RMRYMcs563TC",
        "outputId": "27220962-df19-4c00-debb-934d895acbf3"
      },
      "execution_count": 5,
      "outputs": [
        {
          "output_type": "stream",
          "name": "stdout",
          "text": [
            "Enter number=12\n",
            "66\n"
          ]
        }
      ]
    },
    {
      "cell_type": "code",
      "source": [
        "def add(x,y):\n",
        "  print(x+y)\n",
        "def sub(x,y):\n",
        "  print(x-y)\n",
        "x=int(input(\"Enter number1=\"))\n",
        "y=int(input(\"Enter number2=\"))\n",
        "add(x,y)\n"
      ],
      "metadata": {
        "colab": {
          "base_uri": "https://localhost:8080/"
        },
        "id": "5-koExMO53DB",
        "outputId": "8ef10c24-63f6-47bd-a2a9-7a02585cdcb7"
      },
      "execution_count": 6,
      "outputs": [
        {
          "output_type": "stream",
          "name": "stdout",
          "text": [
            "Enter number1=13\n",
            "Enter number2=2\n",
            "15\n"
          ]
        }
      ]
    },
    {
      "cell_type": "code",
      "source": [],
      "metadata": {
        "id": "TBFumB9i-CkJ"
      },
      "execution_count": 6,
      "outputs": []
    }
  ]
}