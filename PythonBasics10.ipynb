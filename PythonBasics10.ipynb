{
  "nbformat": 4,
  "nbformat_minor": 0,
  "metadata": {
    "colab": {
      "provenance": [],
      "authorship_tag": "ABX9TyMnIRcKqy5zhFKpXVp6Fn/+",
      "include_colab_link": true
    },
    "kernelspec": {
      "name": "python3",
      "display_name": "Python 3"
    },
    "language_info": {
      "name": "python"
    }
  },
  "cells": [
    {
      "cell_type": "markdown",
      "metadata": {
        "id": "view-in-github",
        "colab_type": "text"
      },
      "source": [
        "<a href=\"https://colab.research.google.com/github/Alex-Kurian/Python-Basics/blob/main/PythonBasics10.ipynb\" target=\"_parent\"><img src=\"https://colab.research.google.com/assets/colab-badge.svg\" alt=\"Open In Colab\"/></a>"
      ]
    },
    {
      "cell_type": "code",
      "execution_count": 1,
      "metadata": {
        "colab": {
          "base_uri": "https://localhost:8080/"
        },
        "id": "511AzIt8htxX",
        "outputId": "b70cfc91-19da-4589-fa62-e375167f8467"
      },
      "outputs": [
        {
          "output_type": "stream",
          "name": "stdout",
          "text": [
            "Enter Number=-78\n",
            "Absolute number of -78 is 78\n"
          ]
        }
      ],
      "source": [
        "#Practice Q.\n",
        "#IF-ELIF-ELSE\n",
        "#1.\n",
        "N=int(input('Enter Number='))\n",
        "if N<0:\n",
        "  print(\"Absolute number of\", N ,\"is\", N*-1)\n",
        "else:\n",
        "  print(\"Absolute number of\", N ,\"is\", N)"
      ]
    },
    {
      "cell_type": "code",
      "source": [
        "#2.\n",
        "Marks=int(input('Enter Number='))\n",
        "if Marks<25:\n",
        "  print(\"Grade F\")\n",
        "elif Marks>=25 and Marks<=45:\n",
        "  print(\"Grade E\")\n",
        "elif Marks>=45 and Marks<=50:\n",
        "  print(\"Grade D\")\n",
        "elif Marks>=50 and Marks<=60:\n",
        "  print(\"Grade C\")\n",
        "elif Marks>=60 and Marks<=80:\n",
        "  print(\"Grade B\")\n",
        "else:\n",
        "  print(\"Grade A\")"
      ],
      "metadata": {
        "colab": {
          "base_uri": "https://localhost:8080/"
        },
        "id": "1yS7plHTjkZV",
        "outputId": "50ccab78-5207-4fa8-c5fd-1b54c512c504"
      },
      "execution_count": 2,
      "outputs": [
        {
          "output_type": "stream",
          "name": "stdout",
          "text": [
            "Enter Number=65\n",
            "Grade B\n"
          ]
        }
      ]
    },
    {
      "cell_type": "code",
      "source": [
        "#3.\n",
        "CH=int(input('Number of classes held='))\n",
        "CA=int(input('Number of classes attended='))\n",
        "AP=(CA/CH)*100\n",
        "print(AP)\n",
        "if AP<75:\n",
        "  print(\"Student is not allowed to sit for the exam \")\n",
        "else:\n",
        "  print(\"Student is allowed to sit for the exam \")\n"
      ],
      "metadata": {
        "colab": {
          "base_uri": "https://localhost:8080/"
        },
        "id": "u3wyen_1n3Lf",
        "outputId": "d83d3926-ae49-459f-c9ad-efd9df443e90"
      },
      "execution_count": 3,
      "outputs": [
        {
          "output_type": "stream",
          "name": "stdout",
          "text": [
            "Number of classes held=87\n",
            "Number of classes attended=67\n",
            "77.01149425287356\n",
            "Student is allowed to sit for the exam \n"
          ]
        }
      ]
    },
    {
      "cell_type": "code",
      "source": [
        "#Operators\n",
        "#1.\n",
        "print(' 1. Addition \\n 2. Subtraction \\n 3. Multiplication \\n 4. Division \\n 5. Modulus \\n 6. Floor Division \\n 7. Exponent')\n",
        "n=int(input('Enter the operaton to be performed '))\n",
        "a=int(input('Enter the first number '))\n",
        "b=int(input('Enter the second number '))\n",
        "if n==1:\n",
        "  add=a+b\n",
        "  print('Addition:',add)\n",
        "elif n==2:\n",
        "  sub=a-b\n",
        "  print('Subtraction:',sub)\n",
        "elif n==3:\n",
        "  mul=a*b\n",
        "  print('Multiplication:',mul)\n",
        "elif n==4:\n",
        "  div=a/b\n",
        "  print('Division:',div)\n",
        "elif n==5:\n",
        "  mod=a%b\n",
        "  print('Modulus:',mod)\n",
        "elif n==6:\n",
        "  flr=a//b\n",
        "  print('Floor Division:',flr)\n",
        "elif n==7:\n",
        "  exp=a**b\n",
        "  print('Exponent:',exp)"
      ],
      "metadata": {
        "colab": {
          "base_uri": "https://localhost:8080/"
        },
        "id": "ELawwH3VpwcJ",
        "outputId": "8736c20d-0607-46e3-8d84-0fc37fec2934"
      },
      "execution_count": 4,
      "outputs": [
        {
          "output_type": "stream",
          "name": "stdout",
          "text": [
            " 1. Addition \n",
            " 2. Subtraction \n",
            " 3. Multiplication \n",
            " 4. Division \n",
            " 5. Modulus \n",
            " 6. Floor Division \n",
            " 7. Exponent\n",
            "Enter the operaton to be performed 3\n",
            "Enter the first number 654\n",
            "Enter the second number 76\n",
            "Multiplication: 49704\n"
          ]
        }
      ]
    },
    {
      "cell_type": "code",
      "source": [
        "#Inbuilt Functions\n",
        "#1.\n",
        "import statistics  \n",
        "m1=int(input('Enter marks of first subject '))\n",
        "m2=int(input('Enter marks of second subject '))\n",
        "m3=int(input('Enter marks of third subject '))\n",
        "m4=int(input('Enter marks of fourth subject '))\n",
        "m5=int(input('Enter marks of fifth subject '))\n",
        "m=m1,m2,m3,m4,m5\n",
        "print('Least Marks:',min(m1,m2,m3,m4,m5))\n",
        "print('Maximum Marks:',max(m1,m2,m3,m4,m5))\n",
        "print('Average Marks:',statistics.mean(m))\n",
        "print('Round off Marks',round(statistics.mean(m),2))"
      ],
      "metadata": {
        "colab": {
          "base_uri": "https://localhost:8080/"
        },
        "id": "TCNTLdyevTV1",
        "outputId": "986d34c7-473b-4b73-9b3e-85bb0de86b0c"
      },
      "execution_count": 5,
      "outputs": [
        {
          "output_type": "stream",
          "name": "stdout",
          "text": [
            "Enter marks of first subject 54\n",
            "Enter marks of second subject 65\n",
            "Enter marks of third subject 78\n",
            "Enter marks of fourth subject 97\n",
            "Enter marks of fifth subject 67\n",
            "Least Marks: 54\n",
            "Maximum Marks: 97\n",
            "Average Marks: 72.2\n",
            "Round off Marks 72.2\n"
          ]
        }
      ]
    },
    {
      "cell_type": "code",
      "source": [
        "Name=input(\"Enter Name=\")"
      ],
      "metadata": {
        "colab": {
          "base_uri": "https://localhost:8080/"
        },
        "id": "FRJHSPT_4CEv",
        "outputId": "712043f5-a914-4565-af46-1b74ff8918fa"
      },
      "execution_count": 6,
      "outputs": [
        {
          "name": "stdout",
          "output_type": "stream",
          "text": [
            "Enter Name=Alex kurian\n"
          ]
        }
      ]
    }
  ]
}